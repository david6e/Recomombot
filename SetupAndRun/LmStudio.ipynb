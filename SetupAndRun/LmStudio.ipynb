{
 "cells": [
  {
   "cell_type": "markdown",
   "metadata": {},
   "source": [
    "## <img src = \"https://media2.giphy.com/media/QssGEmpkyEOhBCb7e1/giphy.gif?cid=ecf05e47a0n3gi1bfqntqmob8g9aid1oyj2wr3ds3mg700bl&rid=giphy.gif\" width = 32px> lmStudio\n",
    "\n",
    "```LmStudio``` es una herramienta o entorno relacionado con el uso de modelos de lenguaje ```(LM, por Language Models)```, disponible para interactuar con modelos como ```Llama```, ```GPT``` o similares. Utilizamos LmStudio para gestionar solicitudes ```HTTP``` hacia un servidor de inteligencia artificial que genera recomendaciones personalizadas."
   ]
  },
  {
   "cell_type": "markdown",
   "metadata": {},
   "source": [
    "### Clase LmStudio"
   ]
  },
  {
   "cell_type": "code",
   "execution_count": null,
   "metadata": {},
   "outputs": [],
   "source": [
    "import java.io.BufferedReader;\n",
    "import java.io.InputStreamReader;\n",
    "import java.io.OutputStream;\n",
    "import java.net.HttpURLConnection;\n",
    "import java.net.URL;\n",
    "import org.json.JSONArray;\n",
    "import org.json.JSONObject;\n",
    "\n",
    "public class LmStudio {\n",
    "\n",
    "    public static String Recommendations_0(String mensaje) {\n",
    "        String response = \"\";\n",
    "        try {\n",
    "            URL url = new URL(\"http://127.0.0.1:3074/v1/chat/completions\");\n",
    "            HttpURLConnection conn = (HttpURLConnection) url.openConnection();\n",
    "            conn.setRequestMethod(\"POST\");\n",
    "            conn.setRequestProperty(\"Authorization\", \"Bearer \");\n",
    "            conn.setRequestProperty(\"Content-Type\", \"application/json\");\n",
    "            conn.setDoOutput(true);\n",
    "\n",
    "            String jsonInputString = String.format(\n",
    "                    \"{\\n\" +\n",
    "                            \"    \\\"model\\\": \\\"llama-3.2-1b-instruct\\\",\\n\" +\n",
    "                            \"    \\\"messages\\\": [\\n\" +\n",
    "                            \"        {\\\"role\\\": \\\"system\\\", \\\"content\\\": \\\"Eres una persona que sabe mucho de libros y peliculas y me vas a recomendar minimo 3 opciones y maximo 5 opciones de peliculas o libros, escribe sus autores y fechas de publicacion\\\"},\\n\"\n",
    "                            +\n",
    "                            \"        {\\\"role\\\": \\\"user\\\", \\\"content\\\": \\\"%s\\\"}\\n\" +\n",
    "                            \"    ]\\n\" +\n",
    "                            \"}\",\n",
    "                    mensaje);\n",
    "\n",
    "            try (OutputStream os = conn.getOutputStream()) {\n",
    "                byte[] input = jsonInputString.getBytes(\"utf-8\");\n",
    "                os.write(input, 0, input.length);\n",
    "            }\n",
    "\n",
    "            try (BufferedReader br = new BufferedReader(new InputStreamReader(conn.getInputStream(), \"utf-8\"))) {\n",
    "                StringBuilder responseBuilder = new StringBuilder();\n",
    "                String responseLine = null;\n",
    "                while ((responseLine = br.readLine()) != null) {\n",
    "                    responseBuilder.append(responseLine.trim());\n",
    "                }\n",
    "                response = responseBuilder.toString();\n",
    "            }\n",
    "\n",
    "            JSONObject jsonResponse = new JSONObject(response);\n",
    "            JSONArray choices = jsonResponse.getJSONArray(\"choices\");\n",
    "            JSONObject choice = choices.getJSONObject(0);\n",
    "            JSONObject message = choice.getJSONObject(\"message\");\n",
    "\n",
    "            String contenido = message.optString(\"content\", \"No disponible\");\n",
    "\n",
    "            return \"\\n Respuesta : \" + contenido;\n",
    "\n",
    "        } catch (Exception e) {\n",
    "            e.printStackTrace();\n",
    "        }\n",
    "        return response;\n",
    "    }\n",
    "}"
   ]
  },
  {
   "cell_type": "markdown",
   "metadata": {},
   "source": [
    "- La clase ```lmStudio``` está diseñada para enviar un mensaje al modelo de lenguaje en el servidor configurado y recibir recomendaciones de libros o películas."
   ]
  },
  {
   "cell_type": "markdown",
   "metadata": {},
   "source": [
    "### Proposito principal:\n",
    "La clase tiene un método estático Recommendations_0 que:\n",
    "\n",
    "- Recibe como parámetro un mensaje (mensaje) que el usuario escribe.\n",
    "\n",
    "- Envía este mensaje a un servidor configurado en http://127.0.0.1:3074/v1/chat/completions utilizando una solicitud HTTP POST.\n",
    "\n",
    "- El servidor utiliza un modelo de lenguaje (en este caso, llama-3.2-1b-instruct) para responder con una lista de recomendaciones.\n",
    "\n",
    "- Extrae y devuelve el contenido de la respuesta como una cadena que contiene las recomendaciones."
   ]
  }
 ],
 "metadata": {
  "kernelspec": {
   "display_name": "Java",
   "language": "java",
   "name": "java"
  },
  "language_info": {
   "codemirror_mode": "java",
   "file_extension": ".jshell",
   "mimetype": "text/x-java-source",
   "name": "java",
   "pygments_lexer": "java",
   "version": "21.0.5+9-LTS-239"
  }
 },
 "nbformat": 4,
 "nbformat_minor": 2
}
