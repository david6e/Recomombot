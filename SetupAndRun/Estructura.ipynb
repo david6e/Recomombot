{
 "cells": [
  {
   "cell_type": "markdown",
   "metadata": {},
   "source": [
    "## <img src = \"https://media2.giphy.com/media/QssGEmpkyEOhBCb7e1/giphy.gif?cid=ecf05e47a0n3gi1bfqntqmob8g9aid1oyj2wr3ds3mg700bl&rid=giphy.gif\" width = 32px> Estructura"
   ]
  },
  {
   "cell_type": "markdown",
   "metadata": {},
   "source": [
    "```Maven``` es una herramienta de construcción y gestión de proyectos muy popular en el ecosistema de ```Java```. Junto con ```JavaFX```, ```Maven``` juega un papel clave en la gestión de dependencias, la construcción automatizada y la ejecución.\n",
    "\n",
    "```Maven``` gestiona todas las bibliotecas externas que tu proyecto necesita, incluidas las dependencias de ```JavaFX``` y otras bibliotecas, como ```MySQL``` o cualquier otra que tu aplicación requiera.\n",
    "\n",
    "Sin embargo, existen varias alternativas a ```Maven``` para la gestión de proyectos en Java, especialmente cuando se trabaja con ```JavaFX``` o cualquier otro marco de trabajo. Algunas de las más comunes son ```Gradle```, ```Ant```."
   ]
  },
  {
   "cell_type": "markdown",
   "metadata": {},
   "source": [
    "### Estructura de Recomombot"
   ]
  },
  {
   "attachments": {
    "image-2.png": {
     "image/png": "[encoded data removed]"
    }
   },
   "cell_type": "markdown",
   "metadata": {},
   "source": [
    "![image-2.png](attachment:image-2.png)"
   ]
  },
  {
   "cell_type": "markdown",
   "metadata": {},
   "source": [
    "### Dependencias de Recomombot"
   ]
  },
  {
   "cell_type": "markdown",
   "metadata": {},
   "source": [
    "<?xml version=\"1.0\" encoding=\"UTF-8\"?>\n",
    "<project xmlns=\"http://maven.apache.org/POM/4.0.0\"\n",
    "         xmlns:xsi=\"http://www.w3.org/2001/XMLSchema-instance\"\n",
    "         xsi:schemaLocation=\"http://maven.apache.org/POM/4.0.0 http://maven.apache.org/xsd/maven-4.0.0.xsd\">\n",
    "    <modelVersion>4.0.0</modelVersion>\n",
    "    <groupId>com</groupId>\n",
    "    <artifactId>recomombot</artifactId>\n",
    "    <version>1.0-SNAPSHOT</version>\n",
    "    <properties>\n",
    "        <project.build.sourceEncoding>UTF-8</project.build.sourceEncoding>\n",
    "        <maven.compiler.source>23</maven.compiler.source>\n",
    "        <maven.compiler.target>23</maven.compiler.target>\n",
    "    </properties>\n",
    "    <dependencies>\n",
    "\n",
    "        <dependency>\n",
    "            <groupId>org.json</groupId>\n",
    "            <artifactId>json</artifactId>\n",
    "            <version>20240303</version>\n",
    "        </dependency>\n",
    "        <dependency>\n",
    "            <groupId>org.json</groupId>\n",
    "            <artifactId>org.json</artifactId>\n",
    "            <version>chargebee-1.0</version>\n",
    "        </dependency>\n",
    "\n",
    "\n",
    "        <dependency>\n",
    "            <groupId>mysql</groupId>\n",
    "            <artifactId>mysql-connector-java</artifactId>\n",
    "            <version>8.0.33</version>\n",
    "        </dependency>\n",
    "\n",
    "        <dependency>\n",
    "            <groupId>org.openjfx</groupId>\n",
    "            <artifactId>javafx-controls</artifactId>\n",
    "            <version>23.0.1</version>\n",
    "        </dependency>\n",
    "        <dependency>\n",
    "            <groupId>org.openjfx</groupId>\n",
    "            <artifactId>javafx-fxml</artifactId>\n",
    "            <version>23.0.1</version>\n",
    "        </dependency>\n",
    "        <dependency>\n",
    "            <groupId>org.openjfx</groupId>\n",
    "            <artifactId>javafx-graphics</artifactId>\n",
    "            <version>23.0.1</version>\n",
    "        </dependency>\n",
    "    </dependencies>\n",
    "    <build>\n",
    "        <plugins>\n",
    "            <plugin>\n",
    "                <groupId>org.apache.maven.plugins</groupId>\n",
    "                <artifactId>maven-compiler-plugin</artifactId>\n",
    "                <version>3.8.0</version>\n",
    "                <configuration>\n",
    "                    <release>11</release>\n",
    "                </configuration>\n",
    "            </plugin>\n",
    "            <plugin>\n",
    "                <groupId>org.openjfx</groupId>\n",
    "                <artifactId>javafx-maven-plugin</artifactId>\n",
    "                <version>0.0.6</version>\n",
    "                <executions>\n",
    "                    <execution>\n",
    "                        <!-- Default configuration for running -->\n",
    "                        <!-- Usage: mvn clean javafx:run -->\n",
    "                        <id>default-cli</id>\n",
    "                        <configuration>\n",
    "                            <mainClass>com.App</mainClass>\n",
    "                        </configuration>\n",
    "                    </execution>\n",
    "                </executions>\n",
    "            </plugin>\n",
    "        </plugins>\n",
    "    </build>\n",
    "</project>"
   ]
  }
 ],
 "metadata": {
  "kernelspec": {
   "display_name": "Python 3",
   "language": "python",
   "name": "python3"
  },
  "language_info": {
   "name": "python",
   "version": "3.13.0"
  }
 },
 "nbformat": 4,
 "nbformat_minor": 2
}
