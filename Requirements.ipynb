{
 "cells": [
  {
   "cell_type": "markdown",
   "metadata": {},
   "source": [
    "# Requisitos del Proyecto\n",
    "\n",
    "Asegúrate de tener instaladas las siguientes herramientas y versiones necesarias para el correcto funcionamiento del proyecto:\n",
    "\n",
    "## Software y Herramientas Necesarias\n",
    "\n",
    "1. **Java**  \n",
    "   - Versión requerida: **21**\n",
    "   - Descarga desde: [https://www.oracle.com/java/technologies/javase-downloads.html](https://www.oracle.com/java/technologies/javase-downloads.html)\n",
    "\n",
    "2. **MySQL**  \n",
    "   - Última versión estable.\n",
    "   - Descarga desde: [https://dev.mysql.com/downloads/](https://dev.mysql.com/downloads/)\n",
    "\n",
    "3. **LmStudio**  \n",
    "   - Última versión disponible.\n",
    "   - Descarga desde: [https://lmstudio.com/download](https://lmstudio.com/download)\n",
    "\n",
    "4. **JavaFX**  \n",
    "   - Versión compatible con Java 21.\n",
    "   - Descarga desde: [https://openjfx.io/](https://openjfx.io/)\n",
    "\n",
    "5. **Scene Builder**  \n",
    "   - Última versión disponible.\n",
    "   - Descarga desde: [https://gluonhq.com/products/scene-builder/](https://gluonhq.com/products/scene-builder/)\n",
    "\n",
    "6. **Maven**\n",
    "   - Proyecto Maven (JavaFx dependency - version 6.0.0)\n",
    "\n",
    "---\n",
    "\n",
    "## Notas Importantes\n",
    "\n",
    "- Verifica que las versiones de JavaFX y Scene Builder sean compatibles con la versión de Java instalada.\n",
    "- Asegúrate de configurar correctamente las variables de entorno para Java y MySQL.\n",
    "- Sigue las instrucciones específicas de instalación en las páginas oficiales de cada herramienta.\n"
   ]
  }
 ],
 "metadata": {
  "language_info": {
   "name": "python"
  }
 },
 "nbformat": 4,
 "nbformat_minor": 2
}
